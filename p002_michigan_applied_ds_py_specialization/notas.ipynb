{
 "cells": [
  {
   "cell_type": "markdown",
   "metadata": {},
   "source": [
    "# Python \n",
    "Michigan University (CURSERA)\n",
    "\n",
    "## 1. Numpy"
   ]
  },
  {
   "cell_type": "code",
   "execution_count": 2,
   "metadata": {},
   "outputs": [],
   "source": [
    "import numpy as np\n",
    "import math"
   ]
  },
  {
   "cell_type": "markdown",
   "metadata": {},
   "source": [
    "## 1.1. Vectores y matrices\n",
    "\n",
    "Numpy le da una capa lógica de matemáticas a las colecciones dentro de python, que por definición no la tiene. La únidad vásica es el \"array\" (arreglo); estos arrays pueden ser vectores (cuando solo una lista los compone), o matrices cuando estan compuestos por más de una lista. En este sentido, las listas dentro de un array puden ser interpretadas como vectores o **variables**."
   ]
  },
  {
   "cell_type": "code",
   "execution_count": 5,
   "metadata": {},
   "outputs": [
    {
     "name": "stdout",
     "output_type": "stream",
     "text": [
      "[1 2 3 4 5]\n",
      "[[1 2 3]\n",
      " [4 5 6]]\n",
      "<class 'numpy.ndarray'>\n",
      "Variables vector: 1\n",
      "Variables matriz: 2\n",
      "Dimensiones vector: (5,)\n",
      "Dimensiones matriz: (2, 3)\n"
     ]
    }
   ],
   "source": [
    "# Crear un VECTOR:\n",
    "vector = np.array([1,2,3,4,5])\n",
    "print(vector)\n",
    "\n",
    "# Crear una MATRIZ (con doble [[]])\n",
    "matrix = np.array([\n",
    "    # Variable 1\n",
    "    [1,2,3],\n",
    "    # Variable 2\n",
    "    [4,5,6]\n",
    "    ])\n",
    "print(matrix)\n",
    "\n",
    "# Tipo\n",
    "print(type(matrix))\n",
    "\n",
    "# \".ndim\" el número de dimensiones (variables) del array\n",
    "print(\"Variables vector: \"+ str(vector.ndim))\n",
    "print(\"Variables matriz: \"+ str(matrix.ndim))\n",
    "\n",
    "# \".shape\" devuleve las dimensiones del array\n",
    "print(\"Dimensiones vector: \"+ str(vector.shape))\n",
    "print(\"Dimensiones matriz: \"+ str(matrix.shape))"
   ]
  },
  {
   "cell_type": "markdown",
   "metadata": {},
   "source": [
    "## 1.2. Operaciones básicas\n",
    "\n",
    "Antes,es importante anotar que el tipo de dato del array es homogeneo en todos sus elemenos: Es decir, si un valor del array es un string, y todos los demas son numeros enteros, entonces el array entero será un conjutno de strings. Siempre se generaliza hacia el tipo de dato más general, lo que se denomina \"*upcasting*\".\n",
    "\n",
    "El comportamiento del los arrayes es \"exatamente igual\" que el de las matrices matemáticas: todo tiene que estar entonces correctametne específicado y dimensionado."
   ]
  },
  {
   "cell_type": "code",
   "execution_count": 11,
   "metadata": {},
   "outputs": [
    {
     "name": "stdout",
     "output_type": "stream",
     "text": [
      "Matris original: \n",
      "[[1 2 3 4]\n",
      " [5 6 7 8]]\n",
      "\n",
      "Matirz transpuesta:\n",
      "[[1 5]\n",
      " [2 6]\n",
      " [3 7]\n",
      " [4 8]]\n"
     ]
    }
   ],
   "source": [
    "print(\"Matris original: \")\n",
    "matrix = np.array([\n",
    "    # Variable 1\n",
    "    [1,2,3,4],\n",
    "    # Variable 2\n",
    "    [5,6,7,8]\n",
    "    ])\n",
    "\n",
    "print(matrix)\n",
    "\n",
    "# Transponer la matriz\n",
    "print(\"\\nMatirz transpuesta:\")\n",
    "print(matrix.transpose())\n",
    "\n",
    "#\n"
   ]
  },
  {
   "cell_type": "code",
   "execution_count": null,
   "metadata": {},
   "outputs": [],
   "source": []
  }
 ],
 "metadata": {
  "kernelspec": {
   "display_name": ".venv",
   "language": "python",
   "name": "python3"
  },
  "language_info": {
   "codemirror_mode": {
    "name": "ipython",
    "version": 3
   },
   "file_extension": ".py",
   "mimetype": "text/x-python",
   "name": "python",
   "nbconvert_exporter": "python",
   "pygments_lexer": "ipython3",
   "version": "3.13.1"
  }
 },
 "nbformat": 4,
 "nbformat_minor": 2
}
