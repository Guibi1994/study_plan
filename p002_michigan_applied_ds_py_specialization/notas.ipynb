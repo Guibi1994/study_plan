{
 "cells": [
  {
   "cell_type": "markdown",
   "metadata": {},
   "source": [
    "# Python \n",
    "Michigan University (CURSERA)\n",
    "\n",
    "## 1. Numpy"
   ]
  },
  {
   "cell_type": "code",
   "execution_count": 13,
   "metadata": {},
   "outputs": [],
   "source": [
    "import numpy as np\n",
    "import re"
   ]
  },
  {
   "cell_type": "markdown",
   "metadata": {},
   "source": [
    "### 1.1. Vectores y matrices\n",
    "\n",
    "Numpy le da una capa lógica de matemáticas a las colecciones dentro de python, que por definición no la tiene. La únidad vásica es el \"array\" (arreglo); estos arrays pueden ser vectores (cuando solo una lista los compone), o matrices cuando estan compuestos por más de una lista. En este sentido, las listas dentro de un array puden ser interpretadas como vectores o **variables**."
   ]
  },
  {
   "cell_type": "code",
   "execution_count": 5,
   "metadata": {},
   "outputs": [
    {
     "name": "stdout",
     "output_type": "stream",
     "text": [
      "[1 2 3 4 5]\n",
      "[[1 2 3]\n",
      " [4 5 6]]\n",
      "<class 'numpy.ndarray'>\n",
      "Variables vector: 1\n",
      "Variables matriz: 2\n",
      "Dimensiones vector: (5,)\n",
      "Dimensiones matriz: (2, 3)\n"
     ]
    }
   ],
   "source": [
    "# Crear un VECTOR:\n",
    "vector = np.array([1,2,3,4,5])\n",
    "print(vector)\n",
    "\n",
    "# Crear una MATRIZ (con doble [[]])\n",
    "matrix = np.array([\n",
    "    # Variable 1\n",
    "    [1,2,3],\n",
    "    # Variable 2\n",
    "    [4,5,6]\n",
    "    ])\n",
    "print(matrix)\n",
    "\n",
    "# Tipo\n",
    "print(type(matrix))\n",
    "\n",
    "# \".ndim\" el número de dimensiones (variables) del array\n",
    "print(\"Variables vector: \"+ str(vector.ndim))\n",
    "print(\"Variables matriz: \"+ str(matrix.ndim))\n",
    "\n",
    "# \".shape\" devuleve las dimensiones del array\n",
    "print(\"Dimensiones vector: \"+ str(vector.shape))\n",
    "print(\"Dimensiones matriz: \"+ str(matrix.shape))"
   ]
  },
  {
   "cell_type": "markdown",
   "metadata": {},
   "source": [
    "### 1.2. Operaciones básicas\n",
    "\n",
    "Antes,es importante anotar que el tipo de dato del array es homogeneo en todos sus elemenos: Es decir, si un valor del array es un string, y todos los demas son numeros enteros, entonces el array entero será un conjutno de strings. Siempre se generaliza hacia el tipo de dato más general, lo que se denomina \"*upcasting*\".\n",
    "\n",
    "El comportamiento del los arrayes es \"exatamente igual\" que el de las matrices matemáticas: todo tiene que estar entonces correctametne específicado y dimensionado."
   ]
  },
  {
   "cell_type": "code",
   "execution_count": 14,
   "metadata": {},
   "outputs": [
    {
     "name": "stdout",
     "output_type": "stream",
     "text": [
      "Matris original: \n",
      "[[1 2 3 4]\n",
      " [5 6 7 8]]\n",
      "\n",
      "Matirz transpuesta:\n",
      "[[1 5]\n",
      " [2 6]\n",
      " [3 7]\n",
      " [4 8]]\n",
      "\n",
      "Matriz bolleana (Números pares):\n",
      "[[False  True False  True]\n",
      " [False  True False  True]]\n",
      "\n",
      "Matriz bolleana (x >5):\n",
      "[[False False False False]\n",
      " [False  True  True  True]]\n"
     ]
    }
   ],
   "source": [
    "print(\"Matris original: \")\n",
    "matrix = np.array([\n",
    "    # Variable 1\n",
    "    [1,2,3,4],\n",
    "    # Variable 2\n",
    "    [5,6,7,8]\n",
    "    ])\n",
    "\n",
    "print(matrix)\n",
    "\n",
    "# Transponer la matriz\n",
    "print(\"\\nMatirz transpuesta:\")\n",
    "print(matrix.transpose())\n",
    "\n",
    "# Matriz buleana\n",
    "print(\"\\nMatriz bolleana (Números pares):\")\n",
    "print(matrix %2 ==0)\n",
    "\n",
    "print(\"\\nMatriz bolleana (x >5):\")\n",
    "print(matrix >5)\n"
   ]
  },
  {
   "cell_type": "markdown",
   "metadata": {},
   "source": [
    "Al igual que en **R**, se pueden craar vectores alatorios, y redimensionarlos como matrices:\n"
   ]
  },
  {
   "cell_type": "code",
   "execution_count": 37,
   "metadata": {},
   "outputs": [
    {
     "name": "stdout",
     "output_type": "stream",
     "text": [
      "Creando vectores: \n",
      "[ 3.14159265  6.28318531  9.42477796 12.56637061 15.70796327 18.84955592\n",
      " 21.99114858 25.13274123 28.27433388]\n",
      "[0.   0.05 0.1  0.15 0.2  0.25 0.3  0.35 0.4  0.45 0.5  0.55 0.6  0.65\n",
      " 0.7  0.75 0.8  0.85 0.9  0.95 1.  ]\n",
      "\n",
      "Redimensionamineto de vectores: \n",
      "\n",
      "Vector inicial:\n",
      "[ 1  2  3  4  5  6  7  8  9 10]\n",
      "\n",
      "Matriz Final:\n",
      "[[ 1  2  3  4  5]\n",
      " [ 6  7  8  9 10]]\n"
     ]
    }
   ],
   "source": [
    "print(\"Creando vectores: \")\n",
    "# Crear una secuencia (10 primeros multiplos de \"pi\")\n",
    "print(np.arange(np.pi,np.pi*10,np.pi)) \n",
    "\n",
    "# Crear una lista con un número predetermnado de elementos\n",
    "print(np.linspace(0,1,21))\n",
    "\n",
    "# Redimensionar\n",
    "print(\"\\nRedimensionamineto de vectores: \")\n",
    "print(\"\\nVector inicial:\")\n",
    "print(np.arange(1,11,1))\n",
    "\n",
    "print(\"\\nMatriz Final:\")\n",
    "print(np.array(np.arange(1,11,1)).reshape((2,5)))"
   ]
  },
  {
   "cell_type": "markdown",
   "metadata": {},
   "source": [
    "### 1.3. Slicing\n",
    "\n",
    "El slicing en los arrays funciona similar a en R\n"
   ]
  },
  {
   "cell_type": "code",
   "execution_count": 42,
   "metadata": {},
   "outputs": [
    {
     "name": "stdout",
     "output_type": "stream",
     "text": [
      "Matriz original:\n",
      "[[ 1  2  3  4  5]\n",
      " [ 6  7  8  9 10]]\n",
      "\n",
      "Extraer primer vector\n",
      "[1 2 3 4 5]\n",
      "\n",
      "Extraer  ultimo elemtno de segundo vector\n",
      "10\n",
      "\n",
      "Primer valor de cada vector\n",
      "[1 6]\n"
     ]
    }
   ],
   "source": [
    "data = np.array([\n",
    "    [1,2,3,4,5],\n",
    "    [6,7,8,9,10]])\n",
    "print(\"Matriz original:\")\n",
    "print(data)\n",
    "\n",
    "print(\"\\nExtraer primer vector\")\n",
    "print(data[0])\n",
    "\n",
    "print(\"\\nExtraer  ultimo elemtno de segundo vector\")\n",
    "print(data[1,-1])\n",
    "\n",
    "print(\"\\nPrimer valor de cada vector\")\n",
    "print(data[:,0])"
   ]
  },
  {
   "cell_type": "markdown",
   "metadata": {},
   "source": [
    "### 1.4. REGEX (algunas notas)\n",
    "\n",
    "\n",
    "- `^` Inicio del string\n",
    "- `$` Final del string\n",
    "- `[]` Se denomina un \"*set operator*\": Todo lo que este dentro se maneja de manera indiviual `[ab]` busca todas las \"a\" o todas las \"b\" \n",
    "- `[^]` Niega lo que este dentro del set opertor\n",
    "- `\\w` Culaquier digito o letra\n"
   ]
  },
  {
   "cell_type": "code",
   "execution_count": 41,
   "metadata": {},
   "outputs": [
    {
     "name": "stdout",
     "output_type": "stream",
     "text": [
      "re.finall(...)\n",
      "\n",
      "ab\n",
      "[]\n",
      "\n",
      "[ab]\n",
      "['l', 'a', 'a', 'a', 'a', 'a', 'a', 'a']\n"
     ]
    }
   ],
   "source": [
    "texto = \"Hola como has estado, _ te he marcado como 100 veces. Donde andas?\"\n",
    "print(\"re.finall(...)\")\n",
    "print(\"\\nab\")\n",
    "print(re.findall(\"ab\", texto))\n",
    "\n",
    "print(\"\\n[ab]\")\n",
    "print(re.findall(\"[la]\", texto))\n",
    "\n"
   ]
  },
  {
   "cell_type": "markdown",
   "metadata": {},
   "source": [
    "## 2. Pandas"
   ]
  },
  {
   "cell_type": "code",
   "execution_count": 42,
   "metadata": {},
   "outputs": [],
   "source": [
    "import pandas as pd"
   ]
  },
  {
   "cell_type": "code",
   "execution_count": 47,
   "metadata": {},
   "outputs": [
    {
     "data": {
      "text/plain": [
       "0     guibor\n",
       "1    tatiana\n",
       "2       hael\n",
       "3       None\n",
       "dtype: object"
      ]
     },
     "execution_count": 47,
     "metadata": {},
     "output_type": "execute_result"
    }
   ],
   "source": [
    "data = [\"guibor\",\"tatiana\",\"hael\",\"None\"]\n",
    "pd.Series(data)"
   ]
  },
  {
   "cell_type": "code",
   "execution_count": 48,
   "metadata": {},
   "outputs": [
    {
     "data": {
      "text/plain": [
       "0    1.0\n",
       "1    NaN\n",
       "2    2.0\n",
       "3    4.0\n",
       "dtype: float64"
      ]
     },
     "execution_count": 48,
     "metadata": {},
     "output_type": "execute_result"
    }
   ],
   "source": [
    "data = [1,None, 2,4]\n",
    "pd.Series(data)"
   ]
  }
 ],
 "metadata": {
  "kernelspec": {
   "display_name": ".venv",
   "language": "python",
   "name": "python3"
  },
  "language_info": {
   "codemirror_mode": {
    "name": "ipython",
    "version": 3
   },
   "file_extension": ".py",
   "mimetype": "text/x-python",
   "name": "python",
   "nbconvert_exporter": "python",
   "pygments_lexer": "ipython3",
   "version": "3.13.1"
  }
 },
 "nbformat": 4,
 "nbformat_minor": 2
}
