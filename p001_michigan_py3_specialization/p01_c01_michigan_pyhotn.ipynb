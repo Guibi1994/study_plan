{
 "cells": [
  {
   "cell_type": "markdown",
   "metadata": {},
   "source": [
    "# Python 3 Especialization\n",
    "Michigan University (CURSERA)"
   ]
  },
  {
   "cell_type": "markdown",
   "metadata": {},
   "source": [
    "## 1. Abrir documentos"
   ]
  },
  {
   "cell_type": "markdown",
   "metadata": {},
   "source": [
    "### 1.1. txt"
   ]
  },
  {
   "cell_type": "markdown",
   "metadata": {},
   "source": [
    "**Comandos básicos:** Abrir documentos con \"open()\", leerlos con la funcion \"read()\" y cerrarlos con la función \"close()\""
   ]
  },
  {
   "cell_type": "code",
   "execution_count": 11,
   "metadata": {},
   "outputs": [
    {
     "name": "stdout",
     "output_type": "stream",
     "text": [
      "La palabra \"Yael\" (×™Ö·×¢Öµ×œ) en hebreo tiene un significado rico tanto lingÃ¼Ã­stico como cultural\n",
      "2083\n"
     ]
    },
    {
     "data": {
      "text/plain": [
       "<function TextIOWrapper.close()>"
      ]
     },
     "execution_count": 11,
     "metadata": {},
     "output_type": "execute_result"
    }
   ],
   "source": [
    "# Abrir un archivo de texto como un STRING\n",
    "archivo = open(\"texto_prueba.txt\", \"r\")\n",
    "texto = archivo.read()\n",
    "print(texto[0:100])\n",
    "print(len(texto))\n",
    "archivo.close"
   ]
  },
  {
   "cell_type": "code",
   "execution_count": 4,
   "metadata": {},
   "outputs": [
    {
     "name": "stdout",
     "output_type": "stream",
     "text": [
      "<class 'list'>\n",
      "3\n",
      "3\n",
      "0\n"
     ]
    }
   ],
   "source": [
    "# Abrir documento como una LIST\n",
    "archivo = open(\"texto_prueba.txt\", \"r\")\n",
    "texto = archivo.readlines()\n",
    "print(type(texto))\n",
    "print(len(texto))\n",
    "\n",
    "\n",
    "\n",
    "\n",
    "n_lines = int()\n",
    "for i in texto: # Loop cuántas lineas hay en el texto\n",
    "    n_lines +=1\n",
    "\n",
    "print(n_lines)\n",
    "\n",
    "n_lines = int()\n",
    "for i in archivo: # El loop por línea tambien se puede hacer directamente sobre el archivo\n",
    "    print(i)\n",
    "    n_lines +=1\n",
    "\n",
    "print(n_lines)\n",
    "\n",
    "\n",
    "archivo.close()"
   ]
  },
  {
   "cell_type": "markdown",
   "metadata": {},
   "source": [
    "### 1.2. Archivs \".csv\""
   ]
  },
  {
   "cell_type": "code",
   "execution_count": 15,
   "metadata": {},
   "outputs": [],
   "source": [
    "# Creamos una string multilinea\n",
    "archivo =\"\"\"nombre,edad\n",
    "guibor,30\n",
    "tati,30\"\"\"\n",
    "\n",
    "\n",
    "# Creamos el documetno co el método \"w\"\n",
    "with open(\"test.csv\",\"w\") as dc:\n",
    "    dc.write(archivo)\n",
    "\n",
    "# Podemos añadir más información con el método \"a\"\n",
    "with open(\"test.csv\",\"a\") as dc:\n",
    "    dc.write(\n",
    "        \"\"\"\n",
    "        hael,2\n",
    "        reem,32\"\"\")\n"
   ]
  },
  {
   "cell_type": "markdown",
   "metadata": {},
   "source": [
    "## 2. Diccionarios \"{}\"\n",
    "\n",
    "Los diccionarios son colecciones no ordenadas (no se consultan por un número como en las listas) indexadas en \"llaves\" (*key*). Los diccionarios crean un llave única por detras para cada valor, lo que **aumenta la eficiencia del programa pues no busca uno a uno la coinicidencia de algo como en una lista** sino que extrae directamente el valor referenciado."
   ]
  },
  {
   "cell_type": "code",
   "execution_count": 1,
   "metadata": {},
   "outputs": [
    {
     "name": "stdout",
     "output_type": "stream",
     "text": [
      "{'guibor': 30, 'tatiana': 30, 'hael': 2}\n"
     ]
    }
   ],
   "source": [
    "mi_dic = {\"guibor\":30,\"tatiana\":30,\"hael\":2}\n",
    "print(mi_dic)"
   ]
  },
  {
   "cell_type": "markdown",
   "metadata": {},
   "source": [
    "### 2.1. Métodos generales en diccionarios\n"
   ]
  },
  {
   "cell_type": "code",
   "execution_count": 13,
   "metadata": {},
   "outputs": [
    {
     "name": "stdout",
     "output_type": "stream",
     "text": [
      "2\n",
      "dict_keys(['guibor', 'tatiana', 'hael'])\n",
      "dict_values([30, 30, 2])\n",
      "dict_items([('guibor', 30), ('tatiana', 30), ('hael', 2)])\n",
      "{'guibor': 30, 'tatiana': 30, 'hael': 2, 'lady': 31}\n",
      "{'guibor': 30, 'tatiana': 30, 'hael': 2, 'lady': 10}\n",
      "{'guibor': 30, 'tatiana': 30, 'hael': 2}\n",
      "key: guibor\n",
      "key: tatiana\n",
      "key: hael\n",
      "value: 30\n",
      "value: 30\n",
      "value: 2\n",
      "[30, 30, 2]\n",
      "2\n"
     ]
    }
   ],
   "source": [
    "mi_dic = {\"guibor\":30,\"tatiana\":30,\"hael\":2}\n",
    "# 1. Consultar un item por diccionario\n",
    "\n",
    "## 1.1. Por llave\n",
    "print(mi_dic[\"hael\"]) # Se hace por el \"key\"\n",
    "\n",
    "## 1.2. Revisar todas las llaves\n",
    "print(mi_dic.keys())\n",
    "\n",
    "## 1.3. Revisar todos los valores\n",
    "print(mi_dic.values())\n",
    "\n",
    "## 1.4. Revisar todos los \"pairs\" (pares)\n",
    "print(mi_dic.items()) # los arroja como tuplas\n",
    "\n",
    "\n",
    "# 2. Mutar el diccionario\n",
    "\n",
    "## 2.1. Agregar elementos\n",
    "mi_dic[\"lady\"] = 31\n",
    "print(mi_dic)\n",
    "\n",
    "## 2.2. Editar items\n",
    "mi_dic[\"lady\"] = 10\n",
    "print(mi_dic)\n",
    "\n",
    "## 2.3. Eliminar items\n",
    "del mi_dic[\"lady\"]\n",
    "print(mi_dic)\n",
    "\n",
    "\n",
    "\n",
    "# 3. Iterar sobre un diccionario\n",
    "#   Nota: los diccionarios NO TIENEN ORDEN!! por lo tanto dic[1] no arroja nada\n",
    "#       y se debe indexar por el nombe de la llave a menos que la misma llave\n",
    "#       sea un número. \n",
    "\n",
    "for key in mi_dic:\n",
    "    print(\"key: \"+key)\n",
    "\n",
    "for i in mi_dic:\n",
    "    print(\"value: \"+str(mi_dic[i]))\n",
    "\n",
    "\n",
    "# 4. Consultar con una indexación numérica\n",
    "#   Nota: Podemos transforamr los valores del diccionario en listas para poder \n",
    "#       utililzarlos y referencialos como se hace con la lista\n",
    "\n",
    "mi_lista = list(mi_dic.values())\n",
    "print(mi_lista)\n",
    "print(mi_lista[2])"
   ]
  },
  {
   "cell_type": "markdown",
   "metadata": {},
   "source": [
    "El método \"**get()**\" tambien puede ser util por no retornar un error cuando se indexa una llave no presente en el diccinario"
   ]
  },
  {
   "cell_type": "code",
   "execution_count": 12,
   "metadata": {},
   "outputs": [
    {
     "name": "stdout",
     "output_type": "stream",
     "text": [
      "None\n",
      "999\n",
      "no esta en el dic maestro\n"
     ]
    }
   ],
   "source": [
    "mi_dic = {\"guibor\":30,\"tatiana\":30,\"hael\":2}\n",
    "\n",
    "print(mi_dic.get(\"lady\"))\n",
    "print(mi_dic.get(\"lady\",999)) # Se puede agregar cualquier valor de retorno\n",
    "print(mi_dic.get(\"lady\",\"no esta en el dic maestro\"))"
   ]
  },
  {
   "cell_type": "markdown",
   "metadata": {},
   "source": [
    "## 3. Funciones"
   ]
  },
  {
   "cell_type": "markdown",
   "metadata": {},
   "source": [
    "En pythompython las funciones tienen algunas características adicionales que puden ser útiles en la programación\n",
    "\n",
    "### 3.1. Construcción de una función"
   ]
  },
  {
   "cell_type": "code",
   "execution_count": 6,
   "metadata": {},
   "outputs": [
    {
     "data": {
      "text/plain": [
       "24.0"
      ]
     },
     "execution_count": 6,
     "metadata": {},
     "output_type": "execute_result"
    }
   ],
   "source": [
    "def multiplicatoria(x: list) -> float | int: # Podemos específcar lo que esperamos de entrada (una list en este caso) y de salida (un entero o float)\n",
    "    # Podemos agregar una descripción de la función que luego aparecerá con tab\n",
    "    \"\"\"\n",
    "    Est función multiplia todos los valores un una lista\\n   \n",
    "    'x' debe ser una lista de números\n",
    "    \"\"\"\n",
    "    assert all(isinstance(i, (int,float)) for i in x), \"Elementos no numéricos presentes\" # Podemos insertar verificaiones\n",
    "    result = float(1)\n",
    "    for i in x:\n",
    "        result = i*result\n",
    "        #print(result)\n",
    "    return result\n",
    "\n",
    "\n",
    "multiplicatoria([1,2,3,4])"
   ]
  },
  {
   "cell_type": "markdown",
   "metadata": {},
   "source": [
    "### 3.2. Debug\n",
    "\n",
    "Es una buena práctica testear las funcioes a través de conjuntos de pruebas con \"assert()\", testeando:\n",
    "\n",
    "- Casos tipicos\n",
    "- Edge cases\n",
    "- Errores de interaccin del usuario\n",
    "- etc...\n",
    "\n",
    "No es posibe siempre establecer todas las posibles formas en las que la función interactuará con el sistema, pero agregar pruebas adicionales, con sus comentarios puede ser de gran utilidad en la robustes del sistema y en la facilidad de detección de problemas más adelante."
   ]
  },
  {
   "cell_type": "code",
   "execution_count": 14,
   "metadata": {},
   "outputs": [],
   "source": [
    "assert multiplicatoria([1,2,3]) ==6, \"Fallo\"\n",
    "assert multiplicatoria([0,5,6]) == 0, \"Fallo multplicaión por cero\"\n",
    "assert multiplicatoria([0,5,6]) == 0,\"Fallo multplicaión por cero\""
   ]
  },
  {
   "cell_type": "markdown",
   "metadata": {},
   "source": [
    "### 3.3. Funciones Lambda\n",
    "\n",
    "\n",
    "Las funciones lambda son pequeños snipets de código que contienen una función que puede conturse en **una sola línea de código**."
   ]
  },
  {
   "cell_type": "code",
   "execution_count": 22,
   "metadata": {},
   "outputs": [
    {
     "name": "stdout",
     "output_type": "stream",
     "text": [
      "20\n"
     ]
    },
    {
     "data": {
      "text/plain": [
       "100"
      ]
     },
     "execution_count": 22,
     "metadata": {},
     "output_type": "execute_result"
    }
   ],
   "source": [
    "#Lamda functions\n",
    "\n",
    "# Crear Funcion\n",
    "milb = lambda x,t: x*t\n",
    "print(milb(4,5))\n",
    "\n",
    "# Correr una función anónima\n",
    "(lambda x,r: x**r)(10,2)"
   ]
  },
  {
   "cell_type": "markdown",
   "metadata": {},
   "source": [
    "## 4. While loops\n",
    "\n",
    "No hay que temerle a los while loops. Es cierto que pueden arrojar porblemas de loop infinito sino los hacemos de manera bien, auqnue la mayoría de copiladores forzaran el cierre de un loop infinito.\n",
    "\n",
    "\n",
    "Son útiles cuando nos sabems cuantas veces tendremos que correr nuestra función: \"¿cuántos intentos un usuario hará para ingresar a un login?\" o cualquier otro esenario de validación donde el input y/o su extensión no sea detérministico."
   ]
  },
  {
   "cell_type": "code",
   "execution_count": 6,
   "metadata": {},
   "outputs": [
    {
     "name": "stdout",
     "output_type": "stream",
     "text": [
      "Iteración: 1\n",
      "Valor: 5\n",
      "Iteración: 2\n",
      "Valor: 10\n",
      "Iteración: 3\n",
      "Valor: 15\n",
      "Iteración: 4\n",
      "Valor: 20\n",
      "Iteración: 5\n",
      "Valor: 25\n",
      "Iteración: 6\n",
      "Valor: 30\n",
      "Iteración: 7\n",
      "Valor: 35\n",
      "Iteración: 8\n",
      "Valor: 40\n"
     ]
    }
   ],
   "source": [
    "\n",
    "count = 0 # (1) Siempre tenemos igual un iterador\n",
    "\n",
    "x = 0 # (Opcional) Podemos tener igualmente un iterador interno de la dfuncion\n",
    "\n",
    "while x < 40: # (2) Siempre hay una condición lógica que rompe el loop\n",
    "    x = x+5\n",
    "    count += 1\n",
    "    print(f\"Iteración: {count}\\nValor: {x}\")\n"
   ]
  },
  {
   "cell_type": "markdown",
   "metadata": {},
   "source": [
    "Los \"while\" loops son particularmente útiles cuando interactuamos con usuarios en una aplicación:"
   ]
  },
  {
   "cell_type": "code",
   "execution_count": 21,
   "metadata": {},
   "outputs": [
    {
     "name": "stdout",
     "output_type": "stream",
     "text": [
      "Clave incorrecta:\n",
      "    - Le quedan 2 intentos\n",
      "Correcto! Bienvenido\n"
     ]
    }
   ],
   "source": [
    "# Tenemos una clave en la BD\n",
    "clave = \"123\"\n",
    "\n",
    "# El usario introduce su clave\n",
    "user_input = \"\"\n",
    "intentos = 0\n",
    "\n",
    "while user_input != clave:\n",
    "    if intentos <=3:\n",
    "        user_input = input(\"introduce tu clave\")\n",
    "        if user_input != clave:\n",
    "            intentos +=1\n",
    "            print(\"Clave incorrecta:\")\n",
    "            if 4-intentos >0:\n",
    "                print(f\"    - Le quedan {3-intentos} intentos\")\n",
    "        else:\n",
    "            print(\"Correcto! Bienvenido\")\n",
    "    else: \n",
    "        print(\" - Numero de intentos máximo superados\\n¡¡¡Adios perro!!!\")\n",
    "        break\n",
    "\n",
    "\n",
    "\n"
   ]
  },
  {
   "cell_type": "markdown",
   "metadata": {},
   "source": [
    "## 4. Sorting\n",
    "\n",
    "### 4.1. Formas generales sort() y sorted()"
   ]
  },
  {
   "cell_type": "code",
   "execution_count": 30,
   "metadata": {},
   "outputs": [
    {
     "name": "stdout",
     "output_type": "stream",
     "text": [
      "[1, 2, 3, 4]\n",
      "[1, 2, 3, 4]\n",
      "[4, 2, 3, 1]\n"
     ]
    }
   ],
   "source": [
    "# Dos formas de organizar\n",
    "\n",
    "## a. sort(): Un \"método\" que muta la secuencia si es mutable\n",
    "mi_lista = [4,2,3,1]\n",
    "mi_lista.sort()\n",
    "print(mi_lista)\n",
    "\n",
    "## b. sorted(): Una \"función\" que crea un nuevo objeto\n",
    "mi_lista = [4,2,3,1]\n",
    "print(sorted(mi_lista))\n",
    "print(mi_lista)"
   ]
  },
  {
   "cell_type": "markdown",
   "metadata": {},
   "source": [
    "\"sorted()\" crea una nueva lista, pero \"sort()\" la muta, por lo tanto no funciona ni en strings ni en tuplas. Con \"sorted()\" tambien podemos cambiar por un orden ascendente o descendente\n"
   ]
  },
  {
   "cell_type": "code",
   "execution_count": 42,
   "metadata": {},
   "outputs": [
    {
     "name": "stdout",
     "output_type": "stream",
     "text": [
      "Orden ascendente ------\n",
      "['a', 'h', 'l', 'o']\n",
      "[2, 2, 5, 6, 7]\n",
      "\n",
      "Orden descendente ------\n",
      "['o', 'l', 'h', 'a']\n",
      "[7, 6, 5, 2, 2]\n"
     ]
    },
    {
     "ename": "AttributeError",
     "evalue": "'str' object has no attribute 'sort'",
     "output_type": "error",
     "traceback": [
      "\u001b[1;31m---------------------------------------------------------------------------\u001b[0m",
      "\u001b[1;31mAttributeError\u001b[0m                            Traceback (most recent call last)",
      "Cell \u001b[1;32mIn[42], line 11\u001b[0m\n\u001b[0;32m      8\u001b[0m \u001b[38;5;28mprint\u001b[39m(\u001b[38;5;28msorted\u001b[39m((\u001b[38;5;241m5\u001b[39m,\u001b[38;5;241m2\u001b[39m,\u001b[38;5;241m6\u001b[39m,\u001b[38;5;241m7\u001b[39m,\u001b[38;5;241m2\u001b[39m), reverse\u001b[38;5;241m=\u001b[39m\u001b[38;5;28;01mTrue\u001b[39;00m))\n\u001b[0;32m     10\u001b[0m \u001b[38;5;66;03m# sort()\u001b[39;00m\n\u001b[1;32m---> 11\u001b[0m \u001b[38;5;28mprint\u001b[39m(\u001b[38;5;124;43m\"\u001b[39;49m\u001b[38;5;124;43mhola\u001b[39;49m\u001b[38;5;124;43m\"\u001b[39;49m\u001b[38;5;241;43m.\u001b[39;49m\u001b[43msort\u001b[49m())\n",
      "\u001b[1;31mAttributeError\u001b[0m: 'str' object has no attribute 'sort'"
     ]
    }
   ],
   "source": [
    "# sorted()\n",
    "print(\"Orden ascendente ------\")\n",
    "print(sorted(\"hola\"))\n",
    "print(sorted((5,2,6,7,2)))\n",
    "\n",
    "print(\"\\nOrden descendente ------\")\n",
    "print(sorted(\"hola\", reverse=True))\n",
    "print(sorted((5,2,6,7,2), reverse=True))\n",
    "\n",
    "# sort()\n",
    "print(\"hola\".sort())"
   ]
  },
  {
   "cell_type": "markdown",
   "metadata": {},
   "source": [
    "### 4.1. Advance sorting con \"sorted()\"\n",
    "\"sorted()\" tambien soporta la adicion de una función como parametro de organización"
   ]
  },
  {
   "cell_type": "code",
   "execution_count": 48,
   "metadata": {},
   "outputs": [
    {
     "name": "stdout",
     "output_type": "stream",
     "text": [
      "[-8, -3, -2, 1, 2, 4, 8]\n",
      "[1, -2, 2, -3, 4, -8, 8]\n"
     ]
    }
   ],
   "source": [
    "mi_lista = [-2,-8,8,2,1,4,-3]\n",
    "\n",
    "\n",
    "print(sorted(mi_lista)) # organizar por el valor\n",
    "print(sorted(mi_lista, key= lambda x: (x**2)**(1/2))) # organiar por el valor absoluto\n"
   ]
  },
  {
   "cell_type": "markdown",
   "metadata": {},
   "source": [
    "Se pueden tambien organizar los diccionarios de difente manera"
   ]
  },
  {
   "cell_type": "code",
   "execution_count": 56,
   "metadata": {},
   "outputs": [
    {
     "name": "stdout",
     "output_type": "stream",
     "text": [
      "['d', 'c', 'b', 'a']\n",
      "[6, 3, 2, 0]\n",
      "['b', 'c', 'a', 'd']\n"
     ]
    }
   ],
   "source": [
    "mi_dic = {\"a\":3,\"b\":0,\"c\":2,\"d\":6}\n",
    "\n",
    "print(sorted(mi_dic, reverse=True)) # Por llaves\n",
    "\n",
    "print(sorted(mi_dic.values(), reverse=True)) # Por valores\n",
    "\n",
    "print(sorted(mi_dic, key= lambda k: mi_dic[k])) # Por llaves segun su valor"
   ]
  },
  {
   "cell_type": "markdown",
   "metadata": {},
   "source": [
    "## 5. Json data and nested data\n",
    "### 5.1. Manejo de Jsons\n",
    "Los json se cargan como diccionarios, y se pueden exportgar desde listas o diccionarios.\n",
    "\n",
    "Esto lo hacemos con el módulo \"json\" (\"`import json`\"):\n",
    "- `loads()`: lee un json (un string) y lo transforma en un diccionario\n",
    "- `dumps()`: convierte el diccionario o lista a un formato json "
   ]
  },
  {
   "cell_type": "code",
   "execution_count": 11,
   "metadata": {},
   "outputs": [
    {
     "name": "stdout",
     "output_type": "stream",
     "text": [
      "1. De diccionario a Json:\n",
      "{\n",
      "    \"Family\": \"Canguros\",\n",
      "    \"Members\": {\n",
      "        \"Guibor\": \"30 a\\u00f1os\",\n",
      "        \"Tatiana\": \"30 a\\u00f1os\",\n",
      "        \"Hael\": \"2 a\\u00f1os\"\n",
      "    }\n",
      "}\n",
      "2. De Json a diccionario:\n",
      "{'Family': 'Canguros', 'Members': {'Guibor': '30 años', 'Tatiana': '30 años', 'Hael': '2 años'}}\n"
     ]
    }
   ],
   "source": [
    "import json\n",
    "mi_dic = {\"Family\": \"Canguros\",\n",
    "          \"Members\":{\n",
    "              \"Guibor\": \"30 años\",\n",
    "              \"Tatiana\": \"30 años\",\n",
    "              \"Hael\": \"2 años\"\n",
    "          }}\n",
    "\n",
    "# Dictionary to Json\n",
    "mi_json = json.dumps(mi_dic, indent=4)\n",
    "print(\"1. De diccionario a Json:\")\n",
    "print(mi_json)\n",
    "\n",
    "# Json to Dictionary\n",
    "print(\"2. De Json a diccionario:\")\n",
    "print(json.loads(mi_json))\n"
   ]
  },
  {
   "cell_type": "markdown",
   "metadata": {},
   "source": [
    "### 5.2. Consutlas e iteraciones anidadas"
   ]
  },
  {
   "cell_type": "code",
   "execution_count": 1,
   "metadata": {},
   "outputs": [],
   "source": [
    "#"
   ]
  },
  {
   "cell_type": "markdown",
   "metadata": {},
   "source": [
    "### 5.3. La función `map()`\n",
    "\n",
    "\n",
    "`map()` permite imputar una función a cada uno de los elementos de una lista u objeto de secuencia. Es importante tener en cuenta que map opera sobre el 1er nivel de una lista. Para los subsiguientes niveles map opera de manera distitna"
   ]
  },
  {
   "cell_type": "code",
   "execution_count": 19,
   "metadata": {},
   "outputs": [
    {
     "name": "stdout",
     "output_type": "stream",
     "text": [
      "[1, 2, 3, 4, 1, 2, 3, 4]\n",
      "[2, 4, 6, 8]\n",
      "[18, [8, 8]]\n",
      "[18, [8, [7], 8, [7]]]\n"
     ]
    }
   ],
   "source": [
    "mi_lista = [1,2,3,4]\n",
    "\n",
    "# Esto solo agrega una lista igual\n",
    "print(mi_lista*2)\n",
    "\n",
    "# La función `map` emplea esta función en cada elemento de la lista\n",
    "print(list(map(lambda x:x*2,mi_lista))) \n",
    "\n",
    "# Sin embargo solo lo hace en el 1er nivel, y en el segundo duplica\n",
    "mi_lista = [9,[8]]\n",
    "print(list(map(lambda x:x*2,mi_lista))) \n",
    "\n",
    "mi_lista = [9,[8,[7]]]\n",
    "print(list(map(lambda x:x*2,mi_lista))) \n",
    "\n",
    "\n"
   ]
  },
  {
   "cell_type": "markdown",
   "metadata": {},
   "source": [
    "### 5.4. La función `filter()`\n",
    "\n",
    "Similar a `map()`, la funcion `filter()` nos permite extraer información según una condición booleana o según una función que otorgue para cada elemento de una secuencia una expresión boolenana. Ambas funciones, devuelven un conjutno de índeces, por lo que es necesario agregar la función `list()` al principio para recuperar el resultado."
   ]
  },
  {
   "cell_type": "code",
   "execution_count": 24,
   "metadata": {},
   "outputs": [
    {
     "name": "stdout",
     "output_type": "stream",
     "text": [
      "[4, 5]\n"
     ]
    }
   ],
   "source": [
    "mi_lista = [1,2,3,4,5]\n",
    "print(list(filter(lambda x:x>3, mi_lista)))\n"
   ]
  },
  {
   "cell_type": "markdown",
   "metadata": {},
   "source": [
    "### 5.5. List comprehensions\n",
    "\n",
    "\"List comprehension\" es una manera sensilla de realizar tanto las opracines de mutacion de las listas como de filtrado. Es decir, resume ambos métodos, aunque estos pueden ser útiles para otras tareás más especícas. La estructuras son las siguientes:\n",
    "\n",
    "\n",
    "**1. Para mutar:**\n",
    "\n",
    "Estructura:\n",
    "\n",
    "`[expresion o función` + `for` + `iterador` + `in lista]`\n",
    "\n",
    "Ejemplo:\n",
    "\n",
    "`[x+4 for x in mi_lista]`\n",
    "\n",
    "**2. Para filtrar:**\n",
    "Estructura:\n",
    "\n",
    "`[expresion o función` + `for` + `iterador` + `in lista` + `if` + `regla lógica]`\n",
    "\n",
    "Ejemplo:\n",
    "\n",
    "`[x for x in mi_lista if x < 5]`\n",
    "\n",
    "Nota: La lógica del foltro es que \"x for x\" significa \"todo x en la lista que ... relga lógica\". Pero sigue aplicando una función. Lo que pasa es cuando no hay una función adicional, la función es el mismo valor (el mismo iterador).\n"
   ]
  },
  {
   "cell_type": "code",
   "execution_count": 13,
   "metadata": {},
   "outputs": [
    {
     "name": "stdout",
     "output_type": "stream",
     "text": [
      "Mutaciones:\n",
      "[2, 4, 6, 8, 10]\n",
      "[2, 4, 6, 8, 10]\n",
      "Filtros:\n",
      "[1, 2]\n",
      "[1, 2]\n",
      "lista original no cambia:\n",
      "[1, 2, 3, 4, 5]\n"
     ]
    }
   ],
   "source": [
    "mi_lista = [1,2,3,4,5]\n",
    "\n",
    "# 1. EDITAR:\n",
    "print(\"Mutaciones:\")\n",
    "print([x*2 for x in mi_lista]) \n",
    "# Es equivalnte a\n",
    "print(list(map(lambda x:x*2, mi_lista)))\n",
    "\n",
    "# 2. FILTRAR:\n",
    "print(\"Filtros:\")\n",
    "print([x for x in mi_lista if x < 3])\n",
    "# Es equivalente a\n",
    "print(list(filter(lambda x:x<3, mi_lista)))\n",
    "\n",
    "# Nota: Ninguna edita la lista original por que son funciones no métodos\n",
    "print(\"lista original no cambia:\")\n",
    "print(mi_lista)\n"
   ]
  },
  {
   "cell_type": "markdown",
   "metadata": {},
   "source": [
    "**Un ejemplo adicional:**\n",
    "\n",
    "Para los datos en \"tester\" encontrar todos los nombres en \"names\" y devolver su valor usando *list comprehension*."
   ]
  },
  {
   "cell_type": "code",
   "execution_count": 15,
   "metadata": {},
   "outputs": [
    {
     "data": {
      "text/plain": [
       "['Lauren', 'Ayo', 'Kathryn', 'Nick', 'Gladys', 'Adam']"
      ]
     },
     "execution_count": 15,
     "metadata": {},
     "output_type": "execute_result"
    }
   ],
   "source": [
    "\n",
    "tester = {'info': [{\"name\": \"Lauren\", 'class standing': 'Junior', 'major': \"Information Science\"},{'name': 'Ayo', 'class standing': \"Bachelor's\", 'major': 'Information Science'}, {'name': 'Kathryn', 'class standing': 'Senior', 'major': 'Sociology'}, {'name': 'Nick', 'class standing': 'Junior', 'major': 'Computer Science'}, {'name': 'Gladys', 'class standing': 'Sophomore', 'major': 'History'}, {'name': 'Adam', 'major': 'Violin Performance', 'class standing': 'Senior'}]}\n",
    "\n",
    "# Respuesta:\n",
    "[d[\"name\"] for d in tester[\"info\"]]\n",
    "\n",
    "# Pasos que ocurren por detrás:\n",
    "## 1. Accedemos a taster[\"info\"] que es una lista de diccionarios\n",
    "## 2. Para cada \"d\" elemeno en esta lista aplicamos la función \"d[\"name\"]\" "
   ]
  },
  {
   "cell_type": "markdown",
   "metadata": {},
   "source": [
    "Siempre hay dos cosas:\n",
    "\n",
    "- Una función\n",
    "- Una base de datos en los que se aplica la función\n",
    "\n",
    "Esto es importante recordarlo, por más abstrato que sea el tema, el valor inicial representa una función. Puede ser confuso por que que en muchos casos, supongamos que el iterador es \"x\", y veremos que al comienzo el valor es \"[x ...]\". Esto no implica que NO halla una función, sino que la función es \"x\". \n",
    "\n",
    "Otra confusión es ¿Qué es una expresión? Esta puede ser una función como al conocemos \"x+3\", pero tambien las indexaciones son una función \"x[3]\". Esto es curcial tenerlo en cuenta, por que el término función lo asociamos a una operacion aritmética, estadística y a la aplicación de un metodo de mutación, pero *la indexación tambien es un método aplicable dentro de una función, un lambda un list comprehensión\".\n",
    "\n",
    "Las **Expresiones** pueden ser:\n",
    "1. Funciones: `mi_funcion()`\n",
    "2. Lambdas: `lambda x:`\n",
    "3. Métodos: `mi_objeto.metodo()`\n",
    "4. Indexaciones: `variable[indice]`"
   ]
  },
  {
   "cell_type": "markdown",
   "metadata": {},
   "source": [
    "### 5.6. `zip()`\n",
    "\n",
    "Este método combina uno a uno los elemenos de un conjutno de listas en **tuplas**, muy util para realizar comparaciones entre elementos de listas. `zip()`, es similar a `map()` y `filter()` en que devuelve un liste de índices y depende de la función `list()` para convertir el resultado en una lista. \n"
   ]
  },
  {
   "cell_type": "code",
   "execution_count": 17,
   "metadata": {},
   "outputs": [
    {
     "name": "stdout",
     "output_type": "stream",
     "text": [
      "[(1, 4), (2, 3), (3, 2), (4, 1)]\n"
     ]
    }
   ],
   "source": [
    "# Dos listas independientes\n",
    "ls1 = [1,2,3,4]\n",
    "ls2 = [4,3,2,1]\n",
    "\n",
    "# Las unimos creando duplas de sus partes 1x1\n",
    "ls3 = list(zip(ls1,ls2))\n",
    "print(ls3)"
   ]
  },
  {
   "cell_type": "markdown",
   "metadata": {},
   "source": [
    "Al tener esta información de este modo, podemos hacer operaciones y comparaciones entre elementos:"
   ]
  },
  {
   "cell_type": "code",
   "execution_count": 21,
   "metadata": {},
   "outputs": [
    {
     "name": "stdout",
     "output_type": "stream",
     "text": [
      "[5, 5, 5, 5]\n"
     ]
    }
   ],
   "source": [
    "result = [t[0]+t[1] for t in ls3]\n",
    "print(result)"
   ]
  },
  {
   "cell_type": "markdown",
   "metadata": {},
   "source": [
    "## 6. APIs en python\n",
    "\n",
    "Las paginas web funcionan en gran medida con API (*Application Programming Interface*), usaulmente a través del protocolo REST en el cuál consulta recursos de URLs (*Unica Rosourse Locator*) a través de su URI (*Unica Resourse ID*).\n",
    "\n",
    "Para esto las API REST emplean el protocolo HTTP (*HyperText Transfer Protocol*): un protocolo de comunicación que permite la transferencia de información entre clientes y servidores en la web, a través de los siguientes métodos:\n",
    "\n",
    "- **GET:** Recuperar datos de un servidor (lectura).\n",
    "- **POST:** Enviar datos al servidor (creación).\n",
    "- **PUT:** Actualizar un recurso existente.\n",
    "- **DELETE:** Eliminar un recurso.\n",
    "\n",
    "### 6.1. LLamado a un URL\n",
    "\n",
    "las URL por estan construidas por:\n",
    "\n",
    "`Protocolo` + `host o ID`  + `recurso` + `?parámetros`\n",
    "\n",
    "https://www.ejemplo.com:8080/pagina/recurso?id=123&name=test\n",
    "\n",
    "\n",
    "Para llamar una página en la que puede haber un api, usamos el método `get()` del módulo `request`: "
   ]
  },
  {
   "cell_type": "code",
   "execution_count": 38,
   "metadata": {},
   "outputs": [
    {
     "data": {
      "text/plain": [
       "1. Contenido:\n",
       "\n",
       "\n",
       "<!DOCTYPE html>\n",
       "<html\n",
       "  lang=\"en\"\n",
       "  \n",
       "  data-color-mode=\"auto\" data-light-theme=\"light\" data-dark-theme=\"dark\"\n",
       "  data-a11y-animated-images=\"system\" data-a11y-link-underlines=\"true\"\n",
       "  \n",
       "  >\n",
       "\n",
       "\n",
       "\n",
       "  <head>\n",
       "\n",
       "2. URL:\n",
       "https://github.com/Guibi1994\n"
      ]
     },
     "metadata": {},
     "output_type": "display_data"
    }
   ],
   "source": [
    "# 1. Cargamos las librerias necesarias:\n",
    "import requests\n",
    "import json\n",
    "\n",
    "# 2. Con \"get()\" extraemos el contenido de la repsuesta a una URL\n",
    "url =  requests.get(\"https://github.com/Guibi1994\")\n",
    "\n",
    "# 3. Podemos extrer en \"plain text\" (o HTML) el contenido de la URL\n",
    "print(\"1. Contenido:\")\n",
    "print(url.text[:200]) \n",
    "\n",
    "# 4. Y podemos retomar la misma URL\n",
    "print(\"\\n2. URL:\")\n",
    "print(url.url)\n"
   ]
  },
  {
   "cell_type": "markdown",
   "metadata": {},
   "source": [
    "### 6.2. Expresar parámetros al API\n",
    "\n",
    "El los parámetros tambien se pueden agregar dentro del método get con el argúmento ``params``. Estos parámetros tiene que expresarse en forma de **dicionario**.\n",
    "\n",
    "Las API-REST, tiene por lo general 4 parámetros:\n",
    "\n",
    "1. **Recursos o Endpoints:** Nos dicen que recurso debemos consultar. Esta información se muestra en el llamado: www.paginaweb/``recurso1``...\n",
    "2. **Body o Query:** Es la información que consultaremos del recurso.\n",
    "3. **Headers:** Es información adicional que proveemos al API, que no hace parte de la consulta: (i.e.) un método, el uso de un formato, etc. Esta informaión no se expone en la consulta y es ideal para enviar via API información como claves, *API keys* o tokens.\n"
   ]
  },
  {
   "cell_type": "code",
   "execution_count": null,
   "metadata": {},
   "outputs": [
    {
     "name": "stdout",
     "output_type": "stream",
     "text": [
      "El la consulta que contruimos:\n",
      "https://icanhazdadjoke.com/search?limit=2&term=scuba+diver\n",
      "\n",
      "El resultado:\n",
      "\n",
      "{\n",
      "    \"current_page\": 1,\n",
      "    \"limit\": 2,\n",
      "    \"next_page\": 1,\n",
      "    \"previous_page\": 1,\n",
      "    \"results\": [\n",
      "        {\n",
      "            \"id\": \"RfiGei3E6Ed\",\n",
      "            \"joke\": \"Why do scuba divers fall backwards into the water? Because if they fell forwards they\\u2019d still be in the boat.\"\n",
      "        }\n",
      "    ],\n",
      "    \"search_term\": \"scuba diver\",\n",
      "    \"status\": 200,\n",
      "    \"total_jokes\": 1,\n",
      "    \"total_pages\": 1\n",
      "}\n"
     ]
    }
   ],
   "source": [
    "import requests # type: ignore\n",
    "import json\n",
    "\n",
    "# Query\n",
    "params = {\n",
    "    \"limit\" : 2, # p1: Número de chistes máximo a buscar\n",
    "    \"term\" : \"scuba diver\"} # p2: Chistes que contengan \"suba diver\" \n",
    "\n",
    "# Headers\n",
    "headers = {\n",
    "    \"Accept\": \"application/json\"} # h1: el formato de salida segun la documentación\n",
    "\n",
    "# Recurso o endpoint a emplear\n",
    "endpoint = \"https://icanhazdadjoke.com/search\" # emplear el endpoinr \"search\"\n",
    "\n",
    "# Conexión\n",
    "jokes = requests.get(url=endpoint, params=params,headers=headers)\n",
    "print(\"El la consulta que contruimos:\\n\"+jokes.url+\"\\n\")\n",
    "jokes = jokes.json()\n",
    "\n",
    "print(\"El resultado:\\n\")\n",
    "print(json.dumps(jokes, indent=4))"
   ]
  },
  {
   "cell_type": "markdown",
   "metadata": {},
   "source": [
    "## 7. Clases\n",
    "\n",
    "\n",
    "Las clases nos permiten construi nuevos tipos de objeto, con sus definiciones propias, su propia lógica y métodos. Es una capa de programación mucho más elastica y personalizable.\n",
    "\n",
    "1. Para contruir una clase empleamos una la función ``class``: a esta función le llamamos \"**constructor**\". \n",
    "\n",
    "2. Una vez en la clase, luego de definir las importaciones, **incializamos el objeto** con sus atribútos básicos con `def __init__(self)`. \n",
    "   \n",
    "   \"*self*\" se refiere a la clase incialmente definida: puede ser cualqueir otra referencia pero por convención siempre se utiliza el término \"*self*\".\n",
    "\n",
    "Una **clase** es una **fábrica de objetos**."
   ]
  },
  {
   "cell_type": "code",
   "execution_count": 17,
   "metadata": {},
   "outputs": [
    {
     "name": "stdout",
     "output_type": "stream",
     "text": [
      "<class '__main__.Point'>\n"
     ]
    },
    {
     "data": {
      "text/plain": [
       "<__main__.Point at 0x27fd81dbb60>"
      ]
     },
     "execution_count": 17,
     "metadata": {},
     "output_type": "execute_result"
    }
   ],
   "source": [
    "# Crear un objeto \"Point\" con dos atributos \"x\" y \"y\"\n",
    "class Point:\n",
    "    def __init__(self): # Inicializamos el objeto\n",
    "        self.x = 0\n",
    "        self.y = 0\n",
    "\n",
    "\n",
    "# Crear una nueva instancia de \"Point\"\n",
    "#   Nota: Cada llamado a Point() crea una instancia nuvea\n",
    "p = Point()\n",
    "print(type(p))\n",
    "p"
   ]
  },
  {
   "cell_type": "markdown",
   "metadata": {},
   "source": [
    "### 7.1. Métodos espaciles `__xx__`"
   ]
  },
  {
   "cell_type": "markdown",
   "metadata": {},
   "source": [
    "Podemos tambien definir métodos dentro de la clase e incluso, con el método `__str__` definir que se imprime cuando llamamos a las intancias credas por la clase"
   ]
  },
  {
   "cell_type": "code",
   "execution_count": 38,
   "metadata": {},
   "outputs": [
    {
     "name": "stdout",
     "output_type": "stream",
     "text": [
      "Un cangu\n",
      "Haelangu\n",
      "Haelangu (alias Hael): edad 2 añangus\n"
     ]
    }
   ],
   "source": [
    "class Cangus:\n",
    "    def __init__(self,n, e):\n",
    "        self.name = n\n",
    "        self.edad = e\n",
    "    \n",
    "    def canguriar(self):\n",
    "        return str(self.name)+\"angu\"\n",
    "    \n",
    "    def descripcangu(self):\n",
    "        return f\"{self.canguriar()} (alias {self.name}): edad {self.edad} añangus\"\n",
    "\n",
    "    \n",
    "    def __str__(self):\n",
    "        return \"Un cangu\"\n",
    "       \n",
    "\n",
    "# Creamos un cangu:\n",
    "c1 = Cangus(\"Hael\",2)\n",
    "print(c1)\n",
    "print(c1.canguriar())\n",
    "print(c1.descripcangu())\n",
    "\n",
    "\n"
   ]
  },
  {
   "cell_type": "markdown",
   "metadata": {},
   "source": [
    "Tambien existen otros métodos como\n",
    "\n",
    "- `__add__()`: Define que hacer cuando se suman dos instancias\n",
    "- `__lt__()`: Que hace cuando comparamos listas (para ordenar)\n",
    "- `__sub__()`: Que hacer cuando restamos dos instancias\n",
    "  "
   ]
  },
  {
   "cell_type": "markdown",
   "metadata": {},
   "source": [
    "### 7.2. Inheritence\n",
    "\n",
    "Las clases pueden \"heredar\" de otras clases tanto sus variables de incializaicón como sus métodos. Esto sirve para crear conjutnos de clases más complejos que otros: **subclases**.\n",
    "\n",
    "Para crear subclases (una clase que hereda variables de entorno y metodos de otra clase) se realiza la sigueite operació:\n",
    "\n",
    "1. Definimos la herencia: `def Mi_clase(Clase_padre)`\n",
    "   \n",
    "2. **Opcional:** Solo si vamos a definir nuevos argumentos de inicialización: Traemos todos los argumentos de incialización incluidos los nuevos\n",
    "   \n",
    "   `def __init__(` + `variables padre` + `nuevas variables hijo):`\n",
    "\n",
    "   \n",
    "3. **Opcional:** Solo si vamos a definir nuevos argumentos de inicialización: Podemos importar la definición de variables dentro de self (opcional):\n",
    "   \n",
    "   `super().__init__(variables padre)`"
   ]
  },
  {
   "cell_type": "code",
   "execution_count": 11,
   "metadata": {},
   "outputs": [
    {
     "name": "stdout",
     "output_type": "stream",
     "text": [
      "Documento Escritura 12:\n",
      "Cargado el jun-2026 en formato png\n",
      "\n",
      "\n",
      "\n",
      "Documento Folio x031:\n",
      "Cargado el may-2025 en formato pdf\n",
      "Notaria 22\n"
     ]
    }
   ],
   "source": [
    "# 1. Definimos la clase \"padre\"\n",
    "class Documento:\n",
    "    def __init__(self, titulo, tipo, timestamp):\n",
    "        self.titulo = titulo\n",
    "        self.tipo = tipo\n",
    "        self.timestamp = timestamp\n",
    "        pass\n",
    "\n",
    "    def __str__(self):\n",
    "        return f\"Documento {self.titulo}:\\nCargado el {self.timestamp} en formato {self.tipo}\"\n",
    "        pass\n",
    "\n",
    "d1 = Documento(titulo=\"Escritura 12\",tipo=\"png\",timestamp=\"jun-2026\")\n",
    "print(d1)\n",
    "\n",
    "# 2. Definimos la subclase (\"hijo\")\n",
    "print(\"\\n\\n\")\n",
    "## 2.1. Así expresamos la herencia\n",
    "class Folio(Documento):\n",
    "\n",
    "    ## 2.2. Definimos los argumenos del padre más los nuevos\n",
    "    def __init__(self, titulo, tipo, timestamp, notaria):\n",
    "\n",
    "        ## 2.3. Así traemos las variables (para no volver a definirlas)\n",
    "        super().__init__(titulo, tipo, timestamp) \n",
    "\n",
    "        ## 2.4. Definimos los nuevas y especicas variables y métodos\n",
    "        self.notaria = notaria\n",
    "\n",
    "    def __str__(self):\n",
    "        return f\"{super().__str__()}\\nNotaria {self.notaria}\"\n",
    "\n",
    "\n",
    "f1 = Folio(\"Folio x031\",\"pdf\",\"may-2025\",notaria=\"22\")\n",
    "print(f1)\n",
    "\n",
    "\n"
   ]
  },
  {
   "cell_type": "markdown",
   "metadata": {},
   "source": [
    "Las herencias pueden ser múltiples:\n"
   ]
  },
  {
   "cell_type": "code",
   "execution_count": 12,
   "metadata": {},
   "outputs": [
    {
     "name": "stdout",
     "output_type": "stream",
     "text": [
      "Swimming!\n",
      "Flying!\n"
     ]
    }
   ],
   "source": [
    "class Swimmer:\n",
    "    def swim(self):\n",
    "        print(\"Swimming!\")\n",
    "\n",
    "class Flyer:\n",
    "    def fly(self):\n",
    "        print(\"Flying!\")\n",
    "\n",
    "class Goose(Swimmer, Flyer): # Agregamos la herencia al inicio\n",
    "    pass\n",
    "\n",
    "my_goose = Goose()\n",
    "my_goose.swim() # Swimming!\n",
    "my_goose.fly()  # Flying!"
   ]
  },
  {
   "cell_type": "markdown",
   "metadata": {},
   "source": [
    "### 7.3. Decoradores\n",
    "\n",
    "Los decoradores son funciones que nos permiten extender la funcionalidad de otras funciones y/o modificar su comportamineto. Un decorador toma una función, y agrega sobre ella alguna otra funcionalidad complementaria.\n",
    "\n",
    "Puede ser confuso, por que en el proceso de crear un decorador hay mínimo **3 funciones**:\n",
    "\n",
    "1. **La función objetivo:** la función a la que se le aplicará el decorador.\n",
    "   \n",
    "2. **La función wrapper:** Es la función que interactua de manera directa con la objetivo añadiendole un nuevo alcance o funcionalidad.\n",
    "\n",
    "3. **La función decoradora:** Es una función que toma la función objetivo y la wrapper para crear una función combianda completamente nueva. Otra manera de verlo es que la función decoradora es una función que toma la función objetivo como argumento y devuelve una nueva función (generalmente el wrapper) que añade una funcionalidad extendida o modificada.\n",
    "\n",
    "\n",
    "Si lo vemos como flujo: Un decorador toma una **función cualquiera como input** y devuelve una **función wrapper como output**. La función wraper, es la combinación o adición de funcionalidades a la función input."
   ]
  },
  {
   "cell_type": "code",
   "execution_count": 84,
   "metadata": {},
   "outputs": [
    {
     "name": "stdout",
     "output_type": "stream",
     "text": [
      "Algo podria ejecutarse ANTES!\n",
      "\n",
      "-- Función Original --\n",
      "\n",
      "Algo podría ejecutarse DESPUES!\n",
      "\n",
      "Tiempo gastado: 2.00016 segundos\n"
     ]
    },
    {
     "data": {
      "text/plain": [
       "0"
      ]
     },
     "execution_count": 84,
     "metadata": {},
     "output_type": "execute_result"
    }
   ],
   "source": [
    "import time\n",
    "\n",
    "\n",
    "# 1. Definimos el decorador\n",
    "#   Nota: toma una función como objetivo\n",
    "def mi_decorador(fun):\n",
    "\n",
    "    # 2. wrapper: Definimos las funciones a añadir a la función\n",
    "    def wrapper():\n",
    "        \n",
    "        # Funcionalidades anteriores\n",
    "        t0 = time.time()\n",
    "        print(\"Algo podria ejecutarse ANTES!\\n\")\n",
    "\n",
    "        output = fun() # Función de entrada\n",
    "        \n",
    "        # Funcionaliddes posterioes\n",
    "        print(\"Algo podría ejecutarse DESPUES!\\n\")\n",
    "        time.sleep(2)\n",
    "        print(f\"Tiempo gastado: {round(time.time()-t0,5)} segundos\")\n",
    "        return output\n",
    "    # 3. Retornamos la función wrapper\n",
    "    return wrapper\n",
    "\n",
    "# 3. asignamos el decotador\n",
    "@mi_decorador\n",
    "def unalista():\n",
    "    print(\"-- Función Original --\\n\")\n",
    "    return  0\n",
    "    \n",
    "\n",
    "\n",
    "unalista()"
   ]
  },
  {
   "cell_type": "markdown",
   "metadata": {},
   "source": [
    "El siguiente ejemplo crea un decorador que almacene un evento, pero sin modificar la salida de la función objetivo. Hay 3 funciones, de todas ellas quetemos registrar en una BD (lista por ahora), cuadno se ejecutaron"
   ]
  },
  {
   "cell_type": "code",
   "execution_count": 5,
   "metadata": {},
   "outputs": [
    {
     "name": "stdout",
     "output_type": "stream",
     "text": [
      "Evento #1 creado\n",
      "Evento #2 creado\n",
      "Evento #3 creado\n",
      "Evento #4 creado\n",
      "Evento #5 creado\n",
      "Evento #6 creado\n",
      "{\n",
      "   \"eventos\": [\n",
      "      {\n",
      "         \"id_event\": 0,\n",
      "         \"event_code\": \"a\",\n",
      "         \"event_name\": \"saludo_inicial\",\n",
      "         \"timestamp\": \"2025-01-23 06:11:02\"\n",
      "      },\n",
      "      {\n",
      "         \"id_event\": 1,\n",
      "         \"event_code\": \"a\",\n",
      "         \"event_name\": \"saludo_inicial\",\n",
      "         \"timestamp\": \"2025-01-23 06:11:03\"\n",
      "      },\n",
      "      {\n",
      "         \"id_event\": 2,\n",
      "         \"event_code\": \"c\",\n",
      "         \"event_name\": \"despido\",\n",
      "         \"timestamp\": \"2025-01-23 06:11:05\"\n",
      "      },\n",
      "      {\n",
      "         \"id_event\": 3,\n",
      "         \"event_code\": \"b\",\n",
      "         \"event_name\": \"acuerdo_firmado\",\n",
      "         \"timestamp\": \"2025-01-23 06:11:07\"\n",
      "      },\n",
      "      {\n",
      "         \"id_event\": 4,\n",
      "         \"event_code\": \"a\",\n",
      "         \"event_name\": \"saludo_inicial\",\n",
      "         \"timestamp\": \"2025-01-23 06:11:09\"\n",
      "      },\n",
      "      {\n",
      "         \"id_event\": 5,\n",
      "         \"event_code\": \"c\",\n",
      "         \"event_name\": \"despido\",\n",
      "         \"timestamp\": \"2025-01-23 06:11:10\"\n",
      "      }\n",
      "   ]\n",
      "}\n"
     ]
    }
   ],
   "source": [
    "import time\n",
    "from random import randint\n",
    "import json\n",
    "\n",
    "# BD Objetivo\n",
    "eventos = {\"eventos\": []}\n",
    "\n",
    "\n",
    "# 1. Decorador de creación de eventos\n",
    "def event_creation(fn):\n",
    "    # 2. Wrapper\n",
    "    def wrapper():\n",
    "        result = fn()\n",
    "\n",
    "        eventos[\"eventos\"].append(\n",
    "            {\n",
    "                \"id_event\": len(eventos[\"eventos\"]),\n",
    "                \"event_code\": result[1],\n",
    "                \"event_name\": fn.__name__,\n",
    "                \"timestamp\": time.strftime(\"%Y-%m-%d %H:%M:%S\"),\n",
    "            }\n",
    "        )\n",
    "        print(f\"Evento #{len(eventos['eventos'])} creado\")\n",
    "        time.sleep(randint(1, 2))\n",
    "        return result\n",
    "\n",
    "    return wrapper\n",
    "\n",
    "\n",
    "\n",
    "# 3. Funciones creadoras de evento con sus decoradores\n",
    "@event_creation\n",
    "def saludo_inicial():\n",
    "    event_code = \"a\"\n",
    "    return (\"hola\", event_code)\n",
    "\n",
    "\n",
    "@event_creation\n",
    "def acuerdo_firmado():\n",
    "    event_code = \"b\"\n",
    "    return (\"acuerdo\", event_code)\n",
    "\n",
    "\n",
    "@event_creation\n",
    "def despido():\n",
    "    event_code = \"c\"\n",
    "    return (\"adios\", event_code)\n",
    "\n",
    "\n",
    "# --------------------\n",
    "# 4 Test\n",
    "# --------------------\n",
    "\n",
    "saludo_inicial()\n",
    "saludo_inicial()\n",
    "despido()\n",
    "acuerdo_firmado()\n",
    "saludo_inicial()\n",
    "despido()\n",
    "\n",
    "# Resultado final\n",
    "print(json.dumps(eventos, indent=3))"
   ]
  },
  {
   "cell_type": "markdown",
   "metadata": {},
   "source": [
    "### 7.4. Decoradores especiales\n",
    "\n",
    "Un decorador es una función que recibe otra función y devuelve una nueva función con funcionalidades extra, sin cambiar el código original de la función que se está “decorando”. Ademas de los decoradores personalizados, hay otro conjutno de decoradores que comunmente pueden emplearse:\n",
    "\n",
    "- **@staticmethod:** Define métodos estáticos (no requieren instancia).\n",
    "  \n",
    "- **@classmethod:** Define métodos de clase (reciben la clase como primer parámetro).\n",
    "\n",
    "- **@property:** Convierte un método en una propiedad de sólo lectura (puede ampliarse con setters).\n",
    "\n",
    "- **@functools.lru_cache:** Cachea resultados de funciones para acelerar llamadas posteriores.\n",
    "\n",
    "- **@functools.wraps:** Mantiene metadatos del wrapper (nombre, docstring).\n",
    "\n",
    "- **@contextlib.contextmanager:** Simplifica la creación de context managers."
   ]
  }
 ],
 "metadata": {
  "kernelspec": {
   "display_name": ".venv",
   "language": "python",
   "name": "python3"
  },
  "language_info": {
   "codemirror_mode": {
    "name": "ipython",
    "version": 3
   },
   "file_extension": ".py",
   "mimetype": "text/x-python",
   "name": "python",
   "nbconvert_exporter": "python",
   "pygments_lexer": "ipython3",
   "version": "3.13.1"
  }
 },
 "nbformat": 4,
 "nbformat_minor": 2
}
